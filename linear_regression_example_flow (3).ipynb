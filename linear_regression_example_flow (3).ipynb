{
  "nbformat": 4,
  "nbformat_minor": 0,
  "metadata": {
    "colab": {
      "provenance": []
    },
    "kernelspec": {
      "name": "python3",
      "display_name": "Python 3"
    },
    "language_info": {
      "name": "python"
    }
  },
  "cells": [
    {
      "cell_type": "code",
      "source": [
        "#https://colab.research.google.com/notebooks/forms.ipynb#scrollTo=h9aZYKhly2h_"
      ],
      "metadata": {
        "id": "TyJLFKtviRso"
      },
      "execution_count": null,
      "outputs": []
    },
    {
      "cell_type": "code",
      "execution_count": 1,
      "metadata": {
        "id": "GbKTNaZaxh6w",
        "cellView": "form"
      },
      "outputs": [],
      "source": [
        "#@title important libraries\n",
        "import json\n",
        "import math\n",
        "import pandas as pd\n",
        "import os\n",
        "import pickle\n",
        "import joblib\n",
        "from google.colab import output\n",
        "import matplotlib.pyplot as plt\n",
        "from sklearn.preprocessing import StandardScaler\n",
        "from sklearn.svm import SVR\n",
        "import sklearn\n",
        "from sklearn import linear_model \n",
        "import statsmodels.api as sm\n",
        "from sklearn.model_selection import train_test_split"
      ]
    },
    {
      "cell_type": "code",
      "source": [
        "#@title user_check\n",
        "auth= json.load(open(\"authentication.json\"))\n",
        "\n",
        "user_name = 'nakul' #@param {type:\"string\"}\n",
        "output.clear()\n",
        "if user_name in auth:\n",
        "  pass_key = 'n@123' #@param {type:\"string\"}\n",
        "  #pass_key = input(\"passkey \")\n",
        "  output.clear()\n",
        "  if pass_key == auth[user_name]:\n",
        "    info={}\n",
        "    info[\"meta data\"]={}\n",
        "    info[\"meta data\"][\"user\"]=user_name\n",
        "    print(\"credential validated, please proceed for experiment\")\n",
        "  else:\n",
        "    print(\"wrong passkey, try again\")\n",
        "else:\n",
        "  print(\"user_name doest exist\")"
      ],
      "metadata": {
        "cellView": "form",
        "id": "VjKzjpCdyZyA",
        "colab": {
          "base_uri": "https://localhost:8080/"
        },
        "outputId": "2abc6f93-085d-48da-cfef-463137143015"
      },
      "execution_count": 2,
      "outputs": [
        {
          "output_type": "stream",
          "name": "stdout",
          "text": [
            "credential validated, please proceed for experiment\n"
          ]
        }
      ]
    },
    {
      "cell_type": "code",
      "source": [
        "#@title Input Data\n",
        "experiment_name = 'trial_1' #@param {type:\"string\"}\n",
        "#experiment_name=input(\"please_give_experiment_name \")\n",
        "os.mkdir(experiment_name)\n",
        "output.clear()\n",
        "\n",
        "csv_path = 'example.csv' #@param {type:\"string\"}\n",
        "#csv_path = input(\"please provide input csv \")\n",
        "output.clear()\n",
        "try:\n",
        "  data=pd.read_csv(csv_path)\n",
        "  info[\"input_data\"]={}\n",
        "  info[\"input_data\"][\"input_csv_path\"]=csv_path\n",
        "\n",
        "  print(\"Columns in input csv are \", list(data.columns))\n",
        "  print(\"length is \", len(data))\n",
        "  info[\"input_data\"][\"length of data\"]=len(data)\n",
        "  data.to_csv(experiment_name+\"/Raw_input_data.csv\")\n",
        "except:\n",
        "  print(\"please enter correct path\")"
      ],
      "metadata": {
        "colab": {
          "base_uri": "https://localhost:8080/"
        },
        "cellView": "form",
        "id": "RHpTDOcnykCN",
        "outputId": "1187df03-082c-43c2-f1d5-7cac9f1610a3"
      },
      "execution_count": 4,
      "outputs": [
        {
          "output_type": "stream",
          "name": "stdout",
          "text": [
            "Columns in input csv are  ['Unnamed: 0', 'year', 'month', 'interest_rate', 'unemployment_rate', 'index_price']\n",
            "length is  24\n"
          ]
        }
      ]
    },
    {
      "cell_type": "code",
      "source": [
        "#@title Data Preprocessing\n",
        "column_drop= 'yes' #@param [\"no\", \"yes\"]\n",
        "#response=input(\"any columns to be dropped, y or n ? \")\n",
        "output.clear()\n",
        "\n",
        "try:\n",
        "  if column_drop==\"yes\":\n",
        "    inp=input(\"please enter comma separated column names to removed \")\n",
        "    output.clear()\n",
        "    inp=inp.split(\",\")\n",
        "    data=data.drop(inp, axis=1)\n",
        "    info[\"data_processing\"]={}\n",
        "    info[\"data_processing\"][\"columns_removed\"] = inp\n",
        "  else:\n",
        "    pass\n",
        "except:\n",
        "  print(\"column doesnt exsist\")\n",
        "\n",
        "check_nan =data.isnull().values.any()\n",
        "# printing the result\n",
        "\n",
        "if check_nan:\n",
        "  response=input(\"there are nan values in you input data, needs to be dropped before model training, shall we proceed ? \")\n",
        "  output.clear()\n",
        "  if response.lower()==\"y\":\n",
        "      initial_l=len(data)\n",
        "      data = data.dropna()\n",
        "      print(\"after dropping the nan values, count of row have reduced from \", initial_l, \"to\", len(data))\n",
        "      info[\"data_processing\"][\"nans_dropped\"]= len(data)-initial_l\n",
        "\n"
      ],
      "metadata": {
        "cellView": "form",
        "id": "IF3NSsN0yk_I"
      },
      "execution_count": 5,
      "outputs": []
    },
    {
      "cell_type": "code",
      "source": [
        "#@title feature_and_label_selection\n",
        "target = input(\"which is the dependent column ? \")\n",
        "info[\"label_column_name\"] = target\n",
        "y=data[target]\n",
        "columns = list(data.columns)\n",
        "columns.remove(target)\n",
        "os.mkdir(experiment_name+\"/plots\")\n",
        "for column in columns:\n",
        "  plt.scatter(y, data[column], color='red')\n",
        "  plt.title( target +' Vs '+ column, fontsize=14)\n",
        "  plt.xlabel(column, fontsize=14)\n",
        "  plt.ylabel(target, fontsize=14)\n",
        "  plt.grid(True)\n",
        "  \n",
        "  plt.savefig(experiment_name+\"/plots/\"+column+\"_vs_\"+target+'.png', bbox_inches='tight')\n",
        "  plt.show()"
      ],
      "metadata": {
        "id": "N9jsFIe68Xsa",
        "cellView": "form"
      },
      "execution_count": null,
      "outputs": []
    },
    {
      "cell_type": "code",
      "source": [
        "#@title select_feature\n",
        "feature_columns=input(\"which columns would you prefer as input ( comma separeted input plz) ? \")\n",
        "feature_columns=feature_columns.split(\",\")\n",
        "info[\"features_selected\"] = feature_columns\n",
        "\n",
        "x=data[feature_columns]"
      ],
      "metadata": {
        "colab": {
          "base_uri": "https://localhost:8080/"
        },
        "cellView": "form",
        "id": "JzMfIyKXEHLf",
        "outputId": "a27113fc-4d0f-4028-a873-6d4e68397a6c"
      },
      "execution_count": 7,
      "outputs": [
        {
          "name": "stdout",
          "output_type": "stream",
          "text": [
            "which columns would you prefer as input ( comma separeted input plz) ? interest_rate,unemployment_rate\n"
          ]
        }
      ]
    },
    {
      "cell_type": "code",
      "source": [
        "#@title train_test_split\n",
        "test_split_ratio = 0.2 #@param {type:\"slider\", min:0.1, max:1, step:0.1}\n",
        "\n",
        "#ratio=float(input(\"how much subset for testing (0 to 1) ? \"))\n",
        "output.clear()\n",
        "X_train, X_test, y_train, y_test = train_test_split(x, y, test_size=test_split_ratio, random_state=42)\n",
        "\n",
        "print(\"Training set length is\", len(X_train),\" and testing set length is \", len(X_test))\n",
        "info[\"training_split_ratio\"] =  test_split_ratio\n",
        "info[\"training_length\"] =  len(X_train)\n",
        "info[\"testing_length\"] = len(X_test)"
      ],
      "metadata": {
        "colab": {
          "base_uri": "https://localhost:8080/"
        },
        "cellView": "form",
        "id": "YdE_2JIuEgOA",
        "outputId": "562b4934-62b0-401c-cdf6-8160669f6141"
      },
      "execution_count": 9,
      "outputs": [
        {
          "output_type": "stream",
          "name": "stdout",
          "text": [
            "Training set length is 19  and testing set length is  5\n"
          ]
        }
      ]
    },
    {
      "cell_type": "code",
      "source": [
        "#@title Training\n",
        "# with sklearn\n",
        "print(\"---------------------sklearn model-------------------------\")\n",
        "model_1 = linear_model.LinearRegression()\n",
        "model_1.fit(X_train, y_train)\n",
        "\n",
        "print('Intercept: \\n', model_1.intercept_)\n",
        "print('Coefficients: \\n', model_1.coef_)\n",
        "\n",
        "print(\"---------------------statsmodels model---------------------\")\n",
        "# with statsmodels\n",
        "x = sm.add_constant(X_train) # adding a constant\n",
        " \n",
        "model_2 = sm.OLS(y_train, x).fit()\n",
        " \n",
        "print_model = model_2.summary()\n",
        "print(print_model)\n"
      ],
      "metadata": {
        "id": "Z9_mi6Tp9qGc",
        "cellView": "form",
        "colab": {
          "base_uri": "https://localhost:8080/"
        },
        "outputId": "423076b3-adce-494a-f2bc-26166cddb9f1"
      },
      "execution_count": 10,
      "outputs": [
        {
          "output_type": "stream",
          "name": "stdout",
          "text": [
            "---------------------sklearn model-------------------------\n",
            "Intercept: \n",
            " 2601.599844115359\n",
            "Coefficients: \n",
            " [ 260.26126267 -360.55339049]\n",
            "---------------------statsmodels model---------------------\n",
            "                            OLS Regression Results                            \n",
            "==============================================================================\n",
            "Dep. Variable:            index_price   R-squared:                       0.905\n",
            "Model:                            OLS   Adj. R-squared:                  0.893\n",
            "Method:                 Least Squares   F-statistic:                     75.80\n",
            "Date:                Thu, 08 Dec 2022   Prob (F-statistic):           6.90e-09\n",
            "Time:                        17:41:20   Log-Likelihood:                -105.94\n",
            "No. Observations:                  19   AIC:                             217.9\n",
            "Df Residuals:                      16   BIC:                             220.7\n",
            "Df Model:                           2                                         \n",
            "Covariance Type:            nonrobust                                         \n",
            "=====================================================================================\n",
            "                        coef    std err          t      P>|t|      [0.025      0.975]\n",
            "-------------------------------------------------------------------------------------\n",
            "const              2601.5998    965.871      2.694      0.016     554.045    4649.155\n",
            "interest_rate       260.2613    120.597      2.158      0.046       4.607     515.916\n",
            "unemployment_rate  -360.5534    126.909     -2.841      0.012    -629.589     -91.518\n",
            "==============================================================================\n",
            "Omnibus:                        0.676   Durbin-Watson:                   1.821\n",
            "Prob(Omnibus):                  0.713   Jarque-Bera (JB):                0.526\n",
            "Skew:                          -0.369   Prob(JB):                        0.769\n",
            "Kurtosis:                       2.656   Cond. No.                         382.\n",
            "==============================================================================\n",
            "\n",
            "Notes:\n",
            "[1] Standard Errors assume that the covariance matrix of the errors is correctly specified.\n"
          ]
        },
        {
          "output_type": "stream",
          "name": "stderr",
          "text": [
            "/usr/local/lib/python3.8/dist-packages/statsmodels/tsa/tsatools.py:142: FutureWarning: In a future version of pandas all arguments of concat except for the argument 'objs' will be keyword-only\n",
            "  x = pd.concat(x[::order], 1)\n",
            "/usr/local/lib/python3.8/dist-packages/scipy/stats/stats.py:1541: UserWarning: kurtosistest only valid for n>=20 ... continuing anyway, n=19\n",
            "  warnings.warn(\"kurtosistest only valid for n>=20 ... continuing \"\n"
          ]
        }
      ]
    },
    {
      "cell_type": "code",
      "source": [
        "#@title Model_Testing\n",
        "pred_1=model_1.predict(X_test)\n",
        "\n",
        "x = sm.add_constant(X_test)\n",
        "pred_2=model_2.predict(x)\n",
        "\n",
        "\n",
        "mse_1 = sklearn.metrics.mean_squared_error(y_test, pred_1)\n",
        "rmse_1 = math.sqrt(mse_1)\n",
        "mse_2 = sklearn.metrics.mean_squared_error(y_test, pred_2)\n",
        "rmse_2 = math.sqrt(mse_2)\n",
        "\n",
        "info[\"result\"]={}\n",
        "info[\"result\"][\"errors\"]={}\n",
        "info[\"result\"][\"errors\"][\"sklearn_linear_regression\"] = rmse_1\n",
        "info[\"result\"][\"errors\"][\"statsmodels.api_regression\"] = rmse_2\n",
        "\n",
        "print(\"sklearn_linear_regression_error = \", rmse_1)\n",
        "print(\"statsmodels.api_regression_error = \", rmse_2)\n",
        "\n"
      ],
      "metadata": {
        "colab": {
          "base_uri": "https://localhost:8080/"
        },
        "id": "M5z-XrfoGzXG",
        "outputId": "89961125-7fb3-4918-c11d-254711622024",
        "cellView": "form"
      },
      "execution_count": 11,
      "outputs": [
        {
          "output_type": "stream",
          "name": "stdout",
          "text": [
            "sklearn_linear_regression_error =  83.40926389351989\n",
            "statsmodels.api_regression_error =  83.40926389352019\n"
          ]
        },
        {
          "output_type": "stream",
          "name": "stderr",
          "text": [
            "/usr/local/lib/python3.8/dist-packages/statsmodels/tsa/tsatools.py:142: FutureWarning: In a future version of pandas all arguments of concat except for the argument 'objs' will be keyword-only\n",
            "  x = pd.concat(x[::order], 1)\n"
          ]
        }
      ]
    },
    {
      "cell_type": "code",
      "source": [
        "#@title input_data_report_model_saving\n",
        "X_train[\"status\"]=\"Train\"\n",
        "X_train=pd.concat([X_train, y_train], axis=1)\n",
        "X_test[\"status\"]=\"Test\"\n",
        "X_test=pd.concat([X_test, y_test], axis=1)\n",
        "csv_used_for_training=X_train.append(X_test)\n",
        "csv_used_for_training.to_csv(experiment_name+\"/Processed_Data.csv\",index=False)\n",
        "\n",
        "data.to_csv()\n",
        "with open(experiment_name + \"/report.json\", \"w\") as outfile:\n",
        "    json.dump(info, outfile,indent=4)\n",
        "joblib.dump(model_1,experiment_name+\"/sklearn_linear_regression.pkl\")\n",
        "joblib.dump(model_2,experiment_name+\"/statsmodels.pkl\")"
      ],
      "metadata": {
        "cellView": "form",
        "id": "bD9o57vRIn12",
        "colab": {
          "base_uri": "https://localhost:8080/"
        },
        "outputId": "c0cda60d-6e40-4a5f-8ad1-63e2736127ad"
      },
      "execution_count": 12,
      "outputs": [
        {
          "output_type": "execute_result",
          "data": {
            "text/plain": [
              "['trial_1/statsmodels.pkl']"
            ]
          },
          "metadata": {},
          "execution_count": 12
        }
      ]
    },
    {
      "cell_type": "code",
      "source": [
        "#@title loading model\n",
        "exp_name= input(\"enter experiment_name plz \")\n",
        "path = exp_name\n",
        "dir_list = os.listdir(path)\n",
        "models=[]\n",
        "for i in dir_list:\n",
        "  if \".pkl\" in i:\n",
        "      models.append(i)\n",
        "output.clear()\n",
        "print(\"models available are \",models)\n",
        "saved_model=input(\"model_name ? \")\n",
        "output.clear()\n",
        "# Load the pickled model\n",
        "model = joblib.load(exp_name+\"/\"+saved_model)\n",
        "about_model=json.load(open(exp_name+\"/\"+\"report.json\"))\n",
        "print(about_model)"
      ],
      "metadata": {
        "id": "01bg07oiO_Be",
        "cellView": "form",
        "colab": {
          "base_uri": "https://localhost:8080/"
        },
        "outputId": "755c2e89-e6a9-45db-b620-49a1dcc87080"
      },
      "execution_count": 13,
      "outputs": [
        {
          "output_type": "stream",
          "name": "stdout",
          "text": [
            "{'meta data': {'user': 'nakul'}, 'input_data': {'input_csv_path': 'example.csv', 'length of data': 24}, 'data_processing': {'columns_removed': ['Unnamed: 0', 'year']}, 'label_column_name': 'index_price', 'features_selected': ['interest_rate', 'unemployment_rate'], 'training_split_ratio': 0.2, 'training_length': 19, 'testing_length': 5, 'result': {'errors': {'sklearn_linear_regression': 83.40926389351989, 'statsmodels.api_regression': 83.40926389352019}}}\n"
          ]
        }
      ]
    },
    {
      "cell_type": "code",
      "source": [
        "#@title Inference\n",
        "#test_out_yourself\n",
        "columns_needed=about_model[\"features_selected\"]\n",
        "input_data={}\n",
        "for col in columns_needed:\n",
        "  a=int(input(col))\n",
        "  input_data[col]=[a]\n",
        "sample=pd.DataFrame(input_data)\n",
        "model.predict(sample)"
      ],
      "metadata": {
        "id": "iiUh-UlX-A5X",
        "colab": {
          "base_uri": "https://localhost:8080/"
        },
        "cellView": "form",
        "outputId": "eda2eb82-aee6-4fc6-cf1f-05fc6f98cdff"
      },
      "execution_count": 14,
      "outputs": [
        {
          "name": "stdout",
          "output_type": "stream",
          "text": [
            "interest_rate12\n",
            "unemployment_rate6\n"
          ]
        },
        {
          "output_type": "execute_result",
          "data": {
            "text/plain": [
              "array([3561.41465316])"
            ]
          },
          "metadata": {},
          "execution_count": 14
        }
      ]
    }
  ]
}